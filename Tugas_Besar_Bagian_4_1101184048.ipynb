{
  "nbformat": 4,
  "nbformat_minor": 0,
  "metadata": {
    "colab": {
      "name": "Tugas Besar Bagian 4_1101184048.ipynb",
      "provenance": [],
      "collapsed_sections": [
        "Q-zzu4Ut8A2U",
        "FyT1kB34Cqnf",
        "ke6wWtnRFFPU"
      ],
      "authorship_tag": "ABX9TyN32SWagsoHZYYGWsqQkynM",
      "include_colab_link": true
    },
    "kernelspec": {
      "name": "python3",
      "display_name": "Python 3"
    }
  },
  "cells": [
    {
      "cell_type": "markdown",
      "metadata": {
        "id": "view-in-github",
        "colab_type": "text"
      },
      "source": [
        "<a href=\"https://colab.research.google.com/github/adindanoorsaid/Pemograman_Python/blob/main/Tugas_Besar_Bagian_4_1101184048.ipynb\" target=\"_parent\"><img src=\"https://colab.research.google.com/assets/colab-badge.svg\" alt=\"Open In Colab\"/></a>"
      ]
    },
    {
      "cell_type": "markdown",
      "metadata": {
        "id": "n6jWfJ_KKYTE"
      },
      "source": [
        "Adinda Febriyana Noorsaid\r\n",
        "\r\n",
        "1101184048\r\n",
        "\r\n",
        "TT-43-G7"
      ]
    },
    {
      "cell_type": "code",
      "metadata": {
        "id": "hxcim_g44Fjn"
      },
      "source": [
        "import numpy as np\r\n",
        "import matplotlib.pyplot as plt"
      ],
      "execution_count": null,
      "outputs": []
    },
    {
      "cell_type": "code",
      "metadata": {
        "id": "WkXnYE1Z49Nc"
      },
      "source": [
        "NTL = lambda x: 10*np.log10(x)\r\n",
        "LTN = lambda x: 10**(x/10)"
      ],
      "execution_count": null,
      "outputs": []
    },
    {
      "cell_type": "markdown",
      "metadata": {
        "id": "SMdqlYO04TMJ"
      },
      "source": [
        "# 1. Fungsi perhitungan daya terima\r\n",
        "\r\n",
        "\r\n",
        "\r\n"
      ]
    },
    {
      "cell_type": "code",
      "metadata": {
        "id": "gR3rhRTF4qz1"
      },
      "source": [
        "def Prx(d,f,Ptx):\r\n",
        "  # konversi nilai Ptx dari watt ke dBW\r\n",
        "  Pdb = NTL(Ptx)\r\n",
        "  # menghitung pathloss\r\n",
        "  pldb = 32.5 + (20*np.log10(d)) + (20*np.log10(f))\r\n",
        "  # menghitung Prx dalam dB\r\n",
        "  prdb = Pdb - pldb\r\n",
        "  # mengubah daya terima ke bentuk numerik\r\n",
        "  prx = LTN(prdb)\r\n",
        "  return prx,prdb"
      ],
      "execution_count": null,
      "outputs": []
    },
    {
      "cell_type": "code",
      "metadata": {
        "id": "pHM19vhOE6_n"
      },
      "source": [
        "PRX,PRDB = Prx(5,700,4000)\r\n",
        "print('Daya terima adalah = ',PRX/1000,'mW')\r\n",
        "print('Daya terima adalah = ',PRDB,'dBw')\r\n"
      ],
      "execution_count": null,
      "outputs": []
    },
    {
      "cell_type": "markdown",
      "metadata": {
        "id": "Q-zzu4Ut8A2U"
      },
      "source": [
        "#2. Fungsi perhitungan Signal to Noise Ratio (SNR) :"
      ]
    },
    {
      "cell_type": "code",
      "metadata": {
        "id": "PdZdR6-A8oWy"
      },
      "source": [
        "# menghitung N\r\n",
        "def noise(B):\r\n",
        "  # B adalah bandwidth dalam Hz\r\n",
        "  # N = k.T.B \r\n",
        "  # 290 = T (suhu device)\r\n",
        "  # N = 1.38*(10**(-23))*290*B\r\n",
        "  x = LTN(-144)\r\n",
        "  N = x * B\r\n",
        "  return N"
      ],
      "execution_count": null,
      "outputs": []
    },
    {
      "cell_type": "code",
      "metadata": {
        "colab": {
          "base_uri": "https://localhost:8080/"
        },
        "id": "_0miGYYs8qmK",
        "outputId": "7326045e-37ee-4d1d-a567-af529a699d0b"
      },
      "source": [
        "Noise = noise(180000)\r\n",
        "Noise"
      ],
      "execution_count": null,
      "outputs": [
        {
          "output_type": "execute_result",
          "data": {
            "text/plain": [
              "7.165929069962945e-10"
            ]
          },
          "metadata": {
            "tags": []
          },
          "execution_count": 15
        }
      ]
    },
    {
      "cell_type": "code",
      "metadata": {
        "colab": {
          "base_uri": "https://localhost:8080/"
        },
        "id": "DYeEdglw8Rcf",
        "outputId": "ea1ed312-a5fd-43c9-bd14-113e5c8fd436"
      },
      "source": [
        "SNR = PRX/Noise\r\n",
        "SNR"
      ],
      "execution_count": null,
      "outputs": [
        {
          "output_type": "execute_result",
          "data": {
            "text/plain": [
              "256.2426384803185"
            ]
          },
          "metadata": {
            "tags": []
          },
          "execution_count": 16
        }
      ]
    },
    {
      "cell_type": "markdown",
      "metadata": {
        "id": "FyT1kB34Cqnf"
      },
      "source": [
        "# 3. Fungsi perhitungan kapasitas seluler :"
      ]
    },
    {
      "cell_type": "code",
      "metadata": {
        "colab": {
          "base_uri": "https://localhost:8080/"
        },
        "id": "qc5UQCQ7CvPF",
        "outputId": "c9e4c9d4-a60d-4058-8f07-90098daa1bb5"
      },
      "source": [
        "def kapasitas(SNR,B):\r\n",
        "  kapasitas_seluler = B * np.log10(1+SNR)\r\n",
        "  return kapasitas_seluler\r\n",
        "\r\n",
        "a=kapasitas(256.2426384803185,5000000)\r\n",
        "print(\"Kapasitas =\",a,'Bps')"
      ],
      "execution_count": null,
      "outputs": [
        {
          "output_type": "stream",
          "text": [
            "Kapasitas = 12051714.77697564 Bps\n"
          ],
          "name": "stdout"
        }
      ]
    },
    {
      "cell_type": "markdown",
      "metadata": {
        "id": "bRIXYXcXCzvl"
      },
      "source": [
        "# Grafik Variasi Lokasi"
      ]
    },
    {
      "cell_type": "code",
      "metadata": {
        "id": "lLLFp3djC4Rp"
      },
      "source": [
        "def cos(frek,tipe,ht,hr,d):\r\n",
        "  #frek = frekuensi (MHz)\r\n",
        "  #tipe = urban, suburban, open\r\n",
        "  #ht = tinggi tower (meter)\r\n",
        "  #hr = tinggi user (meter)\r\n",
        "  #d = jarak (meter)\r\n",
        "    if frek in range(150,1501):\r\n",
        "        Ca=69.55\r\n",
        "        Cb=26.16\r\n",
        "    elif frek in range(1501,2001):\r\n",
        "        Ca=46.3\r\n",
        "        Cb=33.9\r\n",
        "    \r\n",
        "    if tipe=='urban' :\r\n",
        "        Cm=0\r\n",
        "    elif tipe=='suburban' :\r\n",
        "        Cm= -2*((np.log10((frek/28)**2))-5.4)\r\n",
        "    elif tipe=='open' :\r\n",
        "        Cm= -4.78*(np.log10(frek))+18.33*(np.log10(frek))-40.94\r\n",
        "    else :\r\n",
        "        Cm='tipe salah'\r\n",
        "    \r\n",
        "    ahr = (1.1*np.log10(frek)-0.7)*hr-(1.56*np.log10(frek)-1.8)\r\n",
        "    Lp = Ca+(Cb*np.log10(frek))-(13.83*np.log(ht))-ahr+((44.9-6.55*np.log10(ht))*np.log10(d))-Cm\r\n",
        "    \r\n",
        "    return Lp"
      ],
      "execution_count": null,
      "outputs": []
    },
    {
      "cell_type": "code",
      "metadata": {
        "id": "Q7_OFMrSEfwn"
      },
      "source": [
        "# nilai input\r\n",
        "f=1800 #MHz\r\n",
        "loc1='urban'\r\n",
        "loc2='open'\r\n",
        "loc3='suburban'\r\n",
        "tower=80 #m\r\n",
        "user=1.5 #m\r\n",
        "dmin=200 #m\r\n",
        "dmax=700 #m\r\n",
        "N=200 #titik\r\n",
        "d=np.random.randint(dmin,dmax,N)"
      ],
      "execution_count": null,
      "outputs": []
    },
    {
      "cell_type": "code",
      "metadata": {
        "id": "hALI5lHvEnGs"
      },
      "source": [
        "LpUrban=cos(f,loc1,tower,user,d)\r\n",
        "LpOpen=cos(f,loc2,tower,user,d)\r\n",
        "LpSuburban=cos(f,loc3,tower,user,d)\r\n",
        "d_sort=d[np.argsort(d)]\r\n",
        "Urban_sort=LpUrban[np.argsort(d)]\r\n",
        "Open_sort=LpOpen[np.argsort(d)]\r\n",
        "Suburban_sort=LpSuburban[np.argsort(d)]"
      ],
      "execution_count": null,
      "outputs": []
    },
    {
      "cell_type": "code",
      "metadata": {
        "colab": {
          "base_uri": "https://localhost:8080/",
          "height": 295
        },
        "id": "o-uUtrTPE0HR",
        "outputId": "ec75175c-abcb-461b-bb6a-87d3faf20be3"
      },
      "source": [
        "plt.figure()\r\n",
        "plt.plot(d_sort, Urban_sort, 'b', label='Urban')\r\n",
        "plt.plot(d_sort, Open_sort, 'y', label='Open')\r\n",
        "plt.plot(d_sort, Suburban_sort, 'g', label='Sub Urban')\r\n",
        "plt.legend()\r\n",
        "plt.title('Frekuensi 1800 MHz (GAMBAR CONTOH)')\r\n",
        "plt.xlabel('Jarak (m)')\r\n",
        "plt.ylabel('Path Loss (dB)')\r\n",
        "plt.show()"
      ],
      "execution_count": null,
      "outputs": [
        {
          "output_type": "display_data",
          "data": {
            "image/png": "[encoded data removed]",
            "text/plain": [
              "<Figure size 432x288 with 1 Axes>"
            ]
          },
          "metadata": {
            "tags": [],
            "needs_background": "light"
          }
        }
      ]
    },
    {
      "cell_type": "markdown",
      "metadata": {
        "id": "ke6wWtnRFFPU"
      },
      "source": [
        "# Grafik Variasi Frekuensi"
      ]
    },
    {
      "cell_type": "code",
      "metadata": {
        "id": "6Jjb89PiFH-l"
      },
      "source": [
        "# Nilai Input\r\n",
        "f1=700 #MHz\r\n",
        "f2=900 #MHz\r\n",
        "f3=1800 #MHz\r\n",
        "loc='urban'\r\n",
        "tower=80 #m\r\n",
        "user=1.5 #m\r\n",
        "dmin=300 #m\r\n",
        "dmax=1000 #m\r\n",
        "N=200 #titik\r\n",
        "d=np.random.randint(dmin,dmax,N)"
      ],
      "execution_count": null,
      "outputs": []
    },
    {
      "cell_type": "code",
      "metadata": {
        "id": "2_hGZPMTFOSL"
      },
      "source": [
        "LpUrban1=cos(f1,loc,tower,user,d)\r\n",
        "LpUrban2=cos(f2,loc,tower,user,d)\r\n",
        "LpUrban3=cos(f3,loc,tower,user,d)\r\n",
        "d_sort=d[np.argsort(d)]\r\n",
        "Urban1_sort=LpUrban1[np.argsort(d)]\r\n",
        "Urban2_sort=LpUrban2[np.argsort(d)]\r\n",
        "Urban3_sort=LpUrban3[np.argsort(d)]\r\n"
      ],
      "execution_count": null,
      "outputs": []
    },
    {
      "cell_type": "code",
      "metadata": {
        "colab": {
          "base_uri": "https://localhost:8080/",
          "height": 295
        },
        "id": "wzxGOQINFThV",
        "outputId": "13f9d6d5-c336-4881-aeff-74a07664f5ce"
      },
      "source": [
        "plt.figure()\r\n",
        "plt.plot(d_sort, Urban1_sort, 'b', label='700 Mhz')\r\n",
        "plt.plot(d_sort, Urban2_sort, 'y', label='900 Mhz')\r\n",
        "plt.plot(d_sort, Urban3_sort, 'g', label='1800 Mhz')\r\n",
        "plt.legend()\r\n",
        "plt.title('Model Urban (GAMBAR CONTOH)')\r\n",
        "plt.xlabel('Jarak (m)')\r\n",
        "plt.ylabel('Path Loss (dB)')\r\n",
        "plt.show()"
      ],
      "execution_count": null,
      "outputs": [
        {
          "output_type": "display_data",
          "data": {
            "image/png": "[encoded data removed]",
            "text/plain": [
              "<Figure size 432x288 with 1 Axes>"
            ]
          },
          "metadata": {
            "tags": [],
            "needs_background": "light"
          }
        }
      ]
    }
  ]
}